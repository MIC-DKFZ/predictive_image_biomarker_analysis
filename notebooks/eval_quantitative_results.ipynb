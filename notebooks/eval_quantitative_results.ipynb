{
 "cells": [
  {
   "cell_type": "markdown",
   "id": "14d7cd97-3d95-4c5b-a369-e61e528a5c9e",
   "metadata": {},
   "source": [
    "# Plotting Final Results "
   ]
  },
  {
   "cell_type": "code",
   "execution_count": null,
   "id": "468c1914-0013-4c4e-ae52-a70953bc47cb",
   "metadata": {},
   "outputs": [],
   "source": [
    "%load_ext autoreload\n",
    "%autoreload 2\n",
    "#%reload_ext autoreload\n",
    "import os\n",
    "import pandas as pd\n",
    "import numpy as np\n",
    "\n",
    "from predimgbmanalysis.eval_biomarkers import get_experiment_results, plot_binnedcoeffratios_withbaselines_subplots\n"
   ]
  },
  {
   "cell_type": "code",
   "execution_count": null,
   "id": "8dd5c6bb-3399-4dfc-aedd-b7610f13147b",
   "metadata": {},
   "outputs": [],
   "source": [
    "dataset_location = os.getenv(\"DATASET_LOCATION\", \"/absolute/path/to/datasets\")\n",
    "dataset_root = {\n",
    "    \"CMNIST\": os.path.join(dataset_location, \"\"),\n",
    "    \"birds\": os.path.join(dataset_location, \"CUB_200_2011\"),\n",
    "    \"skin\": os.path.join(dataset_location, \"ISIC2018\"),\n",
    "    \"lungCT\": os.path.join(dataset_location, \"NSCLC_Radiomics\"),\n",
    "}\n",
    "\n",
    "experiment_location = os.getenv(\"EXPERIMENT_LOCATION\", \"/absolute/path/to/experiments\")\n",
    "# Replace names with folder name of experiments\n",
    "experiment_dirs = {\n",
    "    \"CMNIST_a\": os.path.join(experiment_location, \"miniresnetmtl_cmnista\"),\n",
    "    \"CMNIST_b\": os.path.join(experiment_location, \"miniresnetmtl_cmnistb\"),\n",
    "    \"CMNIST_a_st\": os.path.join(experiment_location, \"miniresnetstandard_cmnista\"),\n",
    "    \"CMNIST_b_st\": os.path.join(experiment_location, \"miniresnetstandard_cmnistb\"),\n",
    "    \"birds_a\": os.path.join(experiment_location, \"resnet18mtl_cub2011a\"),\n",
    "    \"birds_b\": os.path.join(experiment_location, \"resnet18mtl_cub2011b\"),\n",
    "    \"birds_a_st\": os.path.join(experiment_location, \"resnet18standard_cub2011a\"),\n",
    "    \"birds_b_st\": os.path.join(experiment_location, \"resnet18standard_cub2011b\"),\n",
    "    \"skin_a\": os.path.join(experiment_location, \"resnet18mtl_isic2018a_binary\"),\n",
    "    \"skin_b\": os.path.join(experiment_location, \"resnet18mtl_isic2018b_binary\"),\n",
    "    \"skin_a_st\": os.path.join(experiment_location, \"resnet18standard_isic2018a_binary\"),\n",
    "    \"skin_b_st\": os.path.join(experiment_location, \"resnet18standard_isic2018b_binary\"),\n",
    "    \"lungCT_a_fold0\": os.path.join(experiment_location, \"test_nsclctumourpatchesnnunet_linear_zscore_mtl4fc_a_extendedrandtransformnew_fold0_complete\"), \n",
    "    \"lungCT_a_fold1\": os.path.join(experiment_location, \"test_nsclctumourpatchesnnunet_linear_zscore_mtl4fc_a_extendedrandtransformnew_fold1_complete\"),\n",
    "    \"lungCT_a_fold2\": os.path.join(experiment_location, \"test_nsclctumourpatchesnnunet_linear_zscore_mtl4fc_a_extendedrandtransformnew_fold2_complete\"),\n",
    "    \"lungCT_a_fold3\": os.path.join(experiment_location, \"test_nsclctumourpatchesnnunet_linear_zscore_mtl4fc_a_extendedrandtransformnew_fold3_complete\"),\n",
    "    \"lungCT_a_fold4\": os.path.join(experiment_location, \"test_nsclctumourpatchesnnunet_linear_zscore_mtl4fc_a_extendedrandtransformnew_fold4_complete\"),\n",
    "        \n",
    "    \"lungCT_b_fold0\": os.path.join(experiment_location, \"test_nsclctumourpatchesnnunet_linear_zscore_mtl4fc_b_extendedrandtransformnew_fold0_complete\"),\n",
    "    \"lungCT_b_fold1\": os.path.join(experiment_location, \"test_nsclctumourpatchesnnunet_linear_zscore_mtl4fc_b_extendedrandtransformnew_fold1_complete\"),\n",
    "    \"lungCT_b_fold2\": os.path.join(experiment_location, \"test_nsclctumourpatchesnnunet_linear_zscore_mtl4fc_b_extendedrandtransformnew_fold2_complete\"),\n",
    "    \"lungCT_b_fold3\": os.path.join(experiment_location, \"test_nsclctumourpatchesnnunet_linear_zscore_mtl4fc_b_extendedrandtransformnew_fold3_complete\"),\n",
    "    \"lungCT_b_fold4\": os.path.join(experiment_location, \"test_nsclctumourpatchesnnunet_linear_zscore_mtl4fc_b_extendedrandtransformnew_fold4_complete\"),\n",
    "    \"lungCT_a\": os.path.join(experiment_location, \"test_nsclctumourpatchesnnunet_linear_zscore_mtl4fc_a_extendedrandtransformnewfulltraincv_complete\"),\n",
    "    \"lungCT_b\": os.path.join(experiment_location, \"test_nsclctumourpatchesnnunet_linear_zscore_mtl4fc_b_extendedrandtransformnewfulltraincv_complete\"),\n",
    "}\n",
    "\n",
    "env = \"test\""
   ]
  },
  {
   "cell_type": "code",
   "execution_count": null,
   "id": "4d490a1a-5221-4a19-afee-57a01759f69e",
   "metadata": {},
   "outputs": [],
   "source": [
    "df_list = []\n"
   ]
  },
  {
   "cell_type": "markdown",
   "id": "0fb317ac-8123-4f2a-a805-f963baef033f",
   "metadata": {},
   "source": [
    "## 1 Colored MNIST"
   ]
  },
  {
   "cell_type": "code",
   "execution_count": null,
   "id": "ec8d452e",
   "metadata": {},
   "outputs": [],
   "source": [
    "data_name = \"CMNIST\"\n"
   ]
  },
  {
   "cell_type": "code",
   "execution_count": null,
   "id": "5d92e0d3-8513-41cd-aaa3-fed1404533cd",
   "metadata": {
    "tags": []
   },
   "outputs": [],
   "source": [
    "name = \"CMNIST_a\"\n",
    "dfa, *dfmtla_ref = get_experiment_results(\n",
    "    experiment_dir=experiment_dirs[name],\n",
    "    fit_type=\"linear\",\n",
    "    dataset_root=dataset_root[data_name],\n",
    "    final_activation=None,\n",
    "    get_saliency_maps=False,\n",
    "    n_batch=100,\n",
    "    use_cuda=True,\n",
    "    save_df_results=True,\n",
    "    num_workers=1,\n",
    "    get_reference_fit_results=True,\n",
    "    env=\"test\",\n",
    "    get_progreference_fit_results=True,\n",
    ")\n",
    "\n"
   ]
  },
  {
   "cell_type": "code",
   "execution_count": null,
   "id": "1e30d8d5-82ab-436b-a1a2-dc2fff78d00f",
   "metadata": {
    "tags": []
   },
   "outputs": [],
   "source": [
    "name = \"CMNIST_b\"\n",
    "dfb, *dfmtlb_ref = get_experiment_results(\n",
    "    experiment_dir=experiment_dirs[name],\n",
    "    fit_type=\"linear\",\n",
    "    dataset_root=dataset_root[data_name],\n",
    "    final_activation=None,\n",
    "    get_saliency_maps=False,\n",
    "    n_batch=100,\n",
    "    use_cuda=True,\n",
    "    save_df_results=True,\n",
    "    num_workers=1,\n",
    "    get_reference_fit_results=True,\n",
    "    env=\"test\",\n",
    "    get_progreference_fit_results=True,\n",
    ")\n",
    "\n"
   ]
  },
  {
   "cell_type": "code",
   "execution_count": null,
   "id": "0a7480a9-a002-495f-b2f7-fbb9062a9064",
   "metadata": {
    "tags": []
   },
   "outputs": [],
   "source": [
    "name = \"CMNIST_a_st\"\n",
    "dfsta, *dfsta_ref = get_experiment_results(\n",
    "    experiment_dir=experiment_dirs[name],\n",
    "    fit_type=\"linear\",\n",
    "    dataset_root=dataset_root[data_name],\n",
    "    final_activation=None,\n",
    "    get_saliency_maps=False,\n",
    "    n_batch=100,\n",
    "    use_cuda=True,\n",
    "    save_df_results=True,\n",
    "    num_workers=1,\n",
    "    get_reference_fit_results=False,\n",
    "    env=\"test\",\n",
    "    get_progreference_fit_results=False,\n",
    ")\n",
    "\n"
   ]
  },
  {
   "cell_type": "code",
   "execution_count": null,
   "id": "88f21fbd-ea43-4eac-b632-3ab27b6c7827",
   "metadata": {
    "tags": []
   },
   "outputs": [],
   "source": [
    "name = \"CMNIST_b_st\"\n",
    "dfstb, *dfstb_ref = get_experiment_results(\n",
    "    experiment_dir=experiment_dirs[name],\n",
    "    fit_type=\"linear\",\n",
    "    dataset_root=dataset_root[data_name],\n",
    "    final_activation=None,\n",
    "    get_saliency_maps=False,\n",
    "    n_batch=100,\n",
    "    use_cuda=True,\n",
    "    save_df_results=True,\n",
    "    num_workers=1,\n",
    "    get_reference_fit_results=False,\n",
    "    env=\"test\",\n",
    "    get_progreference_fit_results=False,\n",
    ")\n",
    "\n"
   ]
  },
  {
   "cell_type": "code",
   "execution_count": null,
   "id": "0b86e9cd-0b93-473d-afad-08cc7ab6cde9",
   "metadata": {},
   "outputs": [],
   "source": [
    "dfmtl = pd.concat([dfa, dfb])\n",
    "dfmtl_ref = pd.concat([dfmtla_ref[0], dfmtlb_ref[0]])\n",
    "dfmtl_progref = pd.concat([dfmtla_ref[1], dfmtlb_ref[1]])\n",
    "dfst = pd.concat([dfsta, dfstb])\n",
    "df_list.append([dfa, dfsta, dfmtla_ref[0], dfmtla_ref[1]])\n",
    "df_list.append([dfb, dfstb, dfmtlb_ref[0], dfmtlb_ref[1]])\n",
    "print([len(df) for df in [dfa, dfb, dfsta, dfstb]])\n",
    "\n"
   ]
  },
  {
   "cell_type": "code",
   "execution_count": null,
   "id": "bf491c92-2e3d-415a-ba16-8f3ad43b4513",
   "metadata": {},
   "outputs": [],
   "source": [
    "print(dfmtl[\"mse\"].mean())\n",
    "print(dfa[\"mse\"].mean())\n",
    "print(dfb[\"mse\"].mean())\n",
    "print(dfst[\"mse\"].mean())\n",
    "print(dfsta[\"mse\"].mean())\n",
    "print(dfstb[\"mse\"].mean())\n"
   ]
  },
  {
   "cell_type": "code",
   "execution_count": null,
   "id": "7a9469c2-6ace-4623-a40a-572c54b9cf58",
   "metadata": {},
   "outputs": [],
   "source": [
    "print(dfmtl[\"pehe\"].mean())\n",
    "print(dfa[\"pehe\"].mean())\n",
    "print(dfb[\"pehe\"].mean())\n"
   ]
  },
  {
   "cell_type": "markdown",
   "id": "067a5a37-8b9d-4803-928f-f9e797e8c97c",
   "metadata": {},
   "source": [
    "## 2 Bird Species"
   ]
  },
  {
   "cell_type": "code",
   "execution_count": null,
   "id": "f9b13586",
   "metadata": {},
   "outputs": [],
   "source": [
    "data_name = \"birds\"\n"
   ]
  },
  {
   "cell_type": "code",
   "execution_count": null,
   "id": "f90a64f3-19ed-4f48-9252-65cd0a026cae",
   "metadata": {
    "tags": []
   },
   "outputs": [],
   "source": [
    "name = \"birds_a\"\n",
    "dfa, *dfmtla_ref = get_experiment_results(\n",
    "    experiment_dir=experiment_dirs[name],\n",
    "    fit_type=\"linear\",\n",
    "    dataset_root=dataset_root[data_name],\n",
    "    final_activation=None,\n",
    "    get_saliency_maps=False,\n",
    "    n_batch=100,\n",
    "    use_cuda=True,\n",
    "    save_df_results=True,\n",
    "    num_workers=1,\n",
    "    get_reference_fit_results=True,\n",
    "    env=\"test\",\n",
    "    get_progreference_fit_results=True,\n",
    ")\n",
    "\n"
   ]
  },
  {
   "cell_type": "code",
   "execution_count": null,
   "id": "c1879d08-1640-4662-963a-5f334e6cfb6d",
   "metadata": {},
   "outputs": [],
   "source": [
    "name = \"birds_b\"\n",
    "dfb, *dfmtlb_ref = get_experiment_results(\n",
    "    experiment_dir=experiment_dirs[name],\n",
    "    fit_type=\"linear\",\n",
    "    dataset_root=dataset_root[data_name],\n",
    "    final_activation=None,\n",
    "    get_saliency_maps=False,\n",
    "    n_batch=100,\n",
    "    use_cuda=True,\n",
    "    save_df_results=True,\n",
    "    num_workers=1,\n",
    "    get_reference_fit_results=True,\n",
    "    env=\"test\",\n",
    "    get_progreference_fit_results=True,\n",
    ")\n",
    "\n"
   ]
  },
  {
   "cell_type": "code",
   "execution_count": null,
   "id": "323638df-330d-4d79-b665-430ad5af2fd9",
   "metadata": {},
   "outputs": [],
   "source": [
    "name = \"birds_a_st\"\n",
    "dfsta, *dfsta_ref = get_experiment_results(\n",
    "    experiment_dir=experiment_dirs[name],\n",
    "    fit_type=\"linear\",\n",
    "    dataset_root=dataset_root[data_name],\n",
    "    final_activation=None,\n",
    "    get_saliency_maps=False,\n",
    "    n_batch=100,\n",
    "    use_cuda=True,\n",
    "    save_df_results=True,\n",
    "    num_workers=1,\n",
    "    get_reference_fit_results=False,\n",
    "    env=\"test\",\n",
    "    get_progreference_fit_results=False,\n",
    ")\n",
    "\n"
   ]
  },
  {
   "cell_type": "code",
   "execution_count": null,
   "id": "dfb7534c-31f7-4385-a852-a1f04f2abd55",
   "metadata": {},
   "outputs": [],
   "source": [
    "name = \"birds_b_st\"\n",
    "dfstb, *dfstb_ref = get_experiment_results(\n",
    "    experiment_dir=experiment_dirs[name],\n",
    "    fit_type=\"linear\",\n",
    "    dataset_root=dataset_root[data_name],\n",
    "    final_activation=None,\n",
    "    get_saliency_maps=False,\n",
    "    n_batch=100,\n",
    "    use_cuda=True,\n",
    "    save_df_results=True,\n",
    "    num_workers=1,\n",
    "    get_reference_fit_results=False,\n",
    "    env=\"test\",\n",
    "    get_progreference_fit_results=False,\n",
    ")\n",
    "\n"
   ]
  },
  {
   "cell_type": "code",
   "execution_count": null,
   "id": "979ef158-5cfc-4947-8802-03fed31fb75e",
   "metadata": {},
   "outputs": [],
   "source": [
    "dfmtl = pd.concat([dfa, dfb])\n",
    "dfmtl_ref = pd.concat([dfmtla_ref[0], dfmtlb_ref[0]])\n",
    "dfmtl_progref = pd.concat([dfmtla_ref[1], dfmtlb_ref[1]])\n",
    "dfst = pd.concat([dfsta, dfstb])\n",
    "df_list.append([dfa, dfsta, dfmtla_ref[0], dfmtla_ref[1]])\n",
    "df_list.append([dfb, dfstb, dfmtlb_ref[0], dfmtlb_ref[1]])\n",
    "print([len(df) for df in [dfa, dfb, dfsta, dfstb]])\n",
    "\n"
   ]
  },
  {
   "cell_type": "code",
   "execution_count": null,
   "id": "573e4aee-6c3e-415c-9ec4-7a65b28ec9d1",
   "metadata": {},
   "outputs": [],
   "source": [
    "print(dfmtl[\"mse\"].mean())\n",
    "print(dfa[\"mse\"].mean())\n",
    "print(dfb[\"mse\"].mean())\n",
    "print(dfst[\"mse\"].mean())\n",
    "print(dfsta[\"mse\"].mean())\n",
    "print(dfstb[\"mse\"].mean())\n"
   ]
  },
  {
   "cell_type": "code",
   "execution_count": null,
   "id": "a3229117-899a-444a-9782-5e7d0e00021a",
   "metadata": {},
   "outputs": [],
   "source": [
    "print(dfmtl[\"pehe\"].mean())\n",
    "print(dfa[\"pehe\"].mean())\n",
    "print(dfb[\"pehe\"].mean())\n"
   ]
  },
  {
   "cell_type": "markdown",
   "id": "e6a405d6-7fa1-4912-88f4-568968c48fec",
   "metadata": {},
   "source": [
    "## 3 ISIC 2018 Skin Lesions"
   ]
  },
  {
   "cell_type": "code",
   "execution_count": null,
   "id": "aa8c7bc8",
   "metadata": {},
   "outputs": [],
   "source": [
    "data_name = \"skin\"\n"
   ]
  },
  {
   "cell_type": "code",
   "execution_count": null,
   "id": "72f5ea1a-ee38-46b6-a30a-f693c970d79a",
   "metadata": {
    "tags": []
   },
   "outputs": [],
   "source": [
    "name = \"skin_a\"\n",
    "dfa, *dfmtla_ref = get_experiment_results(\n",
    "    experiment_dir=experiment_dirs[name],\n",
    "    fit_type=\"linear\",\n",
    "    dataset_root=dataset_root[data_name],\n",
    "    final_activation=None,\n",
    "    get_saliency_maps=False,\n",
    "    n_batch=64,\n",
    "    use_cuda=True,\n",
    "    save_df_results=True,\n",
    "    num_workers=1,\n",
    "    get_reference_fit_results=True,\n",
    "    env=\"test\",\n",
    "    get_progreference_fit_results=True,\n",
    ")\n",
    "\n"
   ]
  },
  {
   "cell_type": "code",
   "execution_count": null,
   "id": "782e860a-b13a-4dd6-84ff-92b8945f91c5",
   "metadata": {},
   "outputs": [],
   "source": [
    "name = \"skin_b\"\n",
    "dfb, *dfmtlb_ref = get_experiment_results(\n",
    "    experiment_dir=experiment_dirs[name],\n",
    "    fit_type=\"linear\",\n",
    "    dataset_root=dataset_root[data_name],\n",
    "    final_activation=None,\n",
    "    get_saliency_maps=False,\n",
    "    n_batch=64,\n",
    "    use_cuda=True,\n",
    "    save_df_results=True,\n",
    "    num_workers=1,\n",
    "    get_reference_fit_results=True,\n",
    "    env=\"test\",\n",
    "    get_progreference_fit_results=True,\n",
    ")\n",
    "\n"
   ]
  },
  {
   "cell_type": "code",
   "execution_count": null,
   "id": "4c776453-f7e2-4489-b4d4-3d259d3e8c4f",
   "metadata": {},
   "outputs": [],
   "source": [
    "name = \"skin_a_st\"\n",
    "dfsta, *dfsta_ref = get_experiment_results(\n",
    "    experiment_dir=experiment_dirs[name],\n",
    "    fit_type=\"linear\",\n",
    "    dataset_root=dataset_root[data_name],\n",
    "    final_activation=None,\n",
    "    get_saliency_maps=False,\n",
    "    n_batch=64,\n",
    "    use_cuda=True,\n",
    "    save_df_results=True,\n",
    "    num_workers=1,\n",
    "    get_reference_fit_results=True,\n",
    "    env=\"test\",\n",
    "    get_progreference_fit_results=True,\n",
    ")\n",
    "\n"
   ]
  },
  {
   "cell_type": "code",
   "execution_count": null,
   "id": "53d6626a-393d-480c-ac7b-232c3c5b05bd",
   "metadata": {},
   "outputs": [],
   "source": [
    "name = \"skin_b_st\"\n",
    "dfstb, *dfstb_ref = get_experiment_results(\n",
    "    experiment_dir=experiment_dirs[name],\n",
    "    fit_type=\"linear\",\n",
    "    dataset_root=dataset_root[data_name],\n",
    "    final_activation=None,\n",
    "    get_saliency_maps=False,\n",
    "    n_batch=64,\n",
    "    use_cuda=True,\n",
    "    save_df_results=True,\n",
    "    num_workers=1,\n",
    "    get_reference_fit_results=True,\n",
    "    env=\"test\",\n",
    "    get_progreference_fit_results=True,\n",
    ")\n",
    "\n"
   ]
  },
  {
   "cell_type": "code",
   "execution_count": null,
   "id": "3bdbcf7c-1aba-4435-8227-1c111f0168cd",
   "metadata": {},
   "outputs": [],
   "source": [
    "dfmtl = pd.concat([dfa, dfb])\n",
    "dfmtl_ref = pd.concat([dfmtla_ref[0], dfmtlb_ref[0]])\n",
    "dfmtl_progref = pd.concat([dfmtla_ref[1], dfmtlb_ref[1]])\n",
    "dfst = pd.concat([dfsta, dfstb])\n",
    "df_list.append([dfa, dfsta, dfsta_ref[0], dfsta_ref[1]])\n",
    "df_list.append([dfb, dfstb, dfstb_ref[0], dfstb_ref[1]])\n",
    "print([len(df) for df in [dfa, dfb, dfsta, dfstb]])\n",
    "\n"
   ]
  },
  {
   "cell_type": "code",
   "execution_count": null,
   "id": "537b7251-bc74-4d6d-a016-24860ead22bc",
   "metadata": {},
   "outputs": [],
   "source": [
    "print(dfmtl[\"mse\"].mean())\n",
    "print(dfa[\"mse\"].mean())\n",
    "print(dfb[\"mse\"].mean())\n",
    "print(dfst[\"mse\"].mean())\n",
    "print(dfsta[\"mse\"].mean())\n",
    "print(dfstb[\"mse\"].mean())\n"
   ]
  },
  {
   "cell_type": "code",
   "execution_count": null,
   "id": "c91094be-82de-4d7f-83a9-e6ab276fb6e4",
   "metadata": {},
   "outputs": [],
   "source": [
    "print(dfmtl[\"pehe\"].mean())\n",
    "print(dfa[\"pehe\"].mean())\n",
    "print(dfb[\"pehe\"].mean())\n"
   ]
  },
  {
   "cell_type": "markdown",
   "id": "f130db2e",
   "metadata": {},
   "source": [
    "## 4 NSCLC-Radiomics Lung Tumors"
   ]
  },
  {
   "cell_type": "code",
   "execution_count": null,
   "id": "a8425536",
   "metadata": {},
   "outputs": [],
   "source": [
    "data_name = \"lungCT\"\n",
    "env = \"test\""
   ]
  },
  {
   "cell_type": "code",
   "execution_count": null,
   "id": "55687d8e",
   "metadata": {},
   "outputs": [],
   "source": [
    "name = \"lungCT_a\"\n",
    "dfa, *dfmtla_ref = get_experiment_results(experiment_dir=experiment_dirs[name],\n",
    "                                            fit_type=\"linear\", \n",
    "                                            dataset_root=dataset_root[\"lungCT\"],\n",
    "                                            final_activation=None, get_saliency_maps=False,\n",
    "                                            n_batch=64, use_cuda=True, save_df_results=True, num_workers=1,\n",
    "                                            get_reference_fit_results=True,\n",
    "                                            env=env,\n",
    "                                            get_progreference_fit_results=True)"
   ]
  },
  {
   "cell_type": "code",
   "execution_count": null,
   "id": "c806e6d0",
   "metadata": {},
   "outputs": [],
   "source": [
    "name = \"lungCT_b\"\n",
    "dfb, *dfmtlb_ref = get_experiment_results(experiment_dir=experiment_dirs[name],\n",
    "                                            fit_type=\"linear\",\n",
    "                                            dataset_root=dataset_root[\"lungCT\"],\n",
    "                                            final_activation=None, get_saliency_maps=False,\n",
    "                                            n_batch=64, use_cuda=True, save_df_results=True, num_workers=1,\n",
    "                                            get_reference_fit_results=True,\n",
    "                                            env=env,\n",
    "                                            get_progreference_fit_results=True)"
   ]
  },
  {
   "cell_type": "code",
   "execution_count": null,
   "id": "56f48402",
   "metadata": {},
   "outputs": [],
   "source": [
    "name = \"lungCT_a_st\"\n",
    "dfsta, *dfsta_ref = get_experiment_results(experiment_dir=experiment_dirs[name],\n",
    "                                            fit_type=\"linear\",\n",
    "                                            dataset_root=dataset_root[\"lungCT\"],\n",
    "                                            final_activation=None, get_saliency_maps=False,\n",
    "                                            n_batch=64, use_cuda=True, save_df_results=True, num_workers=1,\n",
    "                                            get_reference_fit_results=True,\n",
    "                                            env=env,\n",
    "                                            get_progreference_fit_results=True)"
   ]
  },
  {
   "cell_type": "code",
   "execution_count": null,
   "id": "f0b09a4f",
   "metadata": {},
   "outputs": [],
   "source": [
    "name = \"lungCT_b_st\"\n",
    "dfstb, *dfstb_ref = get_experiment_results(experiment_dir=experiment_dirs[name],\n",
    "                                            fit_type=\"linear\",\n",
    "                                            dataset_root=dataset_root[\"lungCT\"],\n",
    "                                            final_activation=None, get_saliency_maps=False,\n",
    "                                            n_batch=64, use_cuda=True, save_df_results=True, num_workers=1,\n",
    "                                            get_reference_fit_results=True,\n",
    "                                            env=env,\n",
    "                                            get_progreference_fit_results=True)"
   ]
  },
  {
   "cell_type": "code",
   "execution_count": null,
   "id": "1a8b3bdc",
   "metadata": {},
   "outputs": [
    {
     "name": "stdout",
     "output_type": "stream",
     "text": [
      "[36, 36, 36, 36]\n"
     ]
    }
   ],
   "source": [
    "dfmtl = pd.concat([dfa,dfb])\n",
    "dfmtl_ref = pd.concat([dfmtla_ref[0],dfmtlb_ref[0]])\n",
    "dfmtl_progref = pd.concat([dfmtla_ref[1],dfmtlb_ref[1]])\n",
    "dfst = pd.concat([dfsta,dfstb])\n",
    "df_list.append([dfa,dfsta,dfsta_ref[0],dfsta_ref[1]])\n",
    "df_list.append([dfb,dfstb,dfstb_ref[0],dfstb_ref[1]])\n",
    "print([len(df) for df in [dfa,dfb,dfsta, dfstb]])"
   ]
  },
  {
   "cell_type": "code",
   "execution_count": null,
   "id": "086fabde",
   "metadata": {},
   "outputs": [
    {
     "name": "stdout",
     "output_type": "stream",
     "text": [
      "0.357761992348565\n",
      "0.31436928113301593\n",
      "0.4011547300550673\n",
      "0.3941089842054579\n",
      "0.3271916177537706\n",
      "0.46102624469333225\n"
     ]
    }
   ],
   "source": [
    "print(dfmtl[\"mse_accuracy\"].mean())\n",
    "print(dfa[\"mse_accuracy\"].mean())\n",
    "print(dfb[\"mse_accuracy\"].mean())\n",
    "print(dfst[\"mse_accuracy\"].mean())\n",
    "print(dfsta[\"mse_accuracy\"].mean())\n",
    "print(dfstb[\"mse_accuracy\"].mean())"
   ]
  },
  {
   "cell_type": "code",
   "execution_count": null,
   "id": "dd79b507",
   "metadata": {},
   "outputs": [
    {
     "name": "stdout",
     "output_type": "stream",
     "text": [
      "0.4718423917786115\n",
      "0.47501463684279266\n",
      "0.4686701467144303\n"
     ]
    }
   ],
   "source": [
    "print(dfmtl[\"pehe\"].mean())\n",
    "print(dfa[\"pehe\"].mean())\n",
    "print(dfb[\"pehe\"].mean())"
   ]
  },
  {
   "cell_type": "markdown",
   "id": "427400cf-accc-4f23-a1d2-65963438badc",
   "metadata": {},
   "source": [
    "## 5 All Plots"
   ]
  },
  {
   "cell_type": "code",
   "execution_count": null,
   "id": "a40fba33-471e-4c9f-bb40-ffaa450edecc",
   "metadata": {},
   "outputs": [],
   "source": [
    "plot_binnedcoeffratios_withbaselines_subplots([df_list[0],df_list[2],df_list[4],df_list[6],df_list[1],df_list[3],df_list[5],df_list[7],],\n",
    "                 labels=None,#[\"ours (two heads)\",\"baseline (single head)\",\"predictive baseline\",\"prognostic baseline\"],\n",
    "                 w_ind=0,\n",
    "                 #ylim=[0.0001,15000],\n",
    "                 ylim_list=[[0.0001,15000],[0.001,1000],[0.01,100],[0.001,1000],[0.0001,15000],[0.001,1000],[0.01,100],[0.001,1000]],\n",
    "                 xlim=[-0.1,5.1],\n",
    "                 use_cmap=False,\n",
    "                 use_sns_palette=\"bright\",\n",
    "                 use_abs=True,\n",
    "                 linear_fit=\"True\",\n",
    "                 use_t=True,\n",
    "                 use_log_scale=True,\n",
    "                 bin_mode=\"boxplots\",\n",
    "                 xmax=5,\n",
    "                 binwidth=1,\n",
    "                 nbins=10,\n",
    "                 savefig=\"./imgs/tratios_all_logscale_boxplots_baselines_horizontal.png\",\n",
    "                 plot_datapoints=False,\n",
    "                 #figsize=(4,4),\n",
    "                 start_idx=10,\n",
    "                 subplots=[2,4]\n",
    "                      )"
   ]
  },
  {
   "cell_type": "markdown",
   "id": "d79c3231-9cd8-4d2b-813c-0ec0d2d9b148",
   "metadata": {},
   "source": [
    "\"PEHE\""
   ]
  },
  {
   "cell_type": "code",
   "execution_count": null,
   "id": "c74321e2-3521-40a9-b0df-ef62c24ac7c2",
   "metadata": {},
   "outputs": [],
   "source": [
    "for df in df_list:\n",
    "    df_ = df[0]\n",
    "    df_[\"b_ratio\"] = df_[\"bpred\"] / df_[\"bprog\"]\n",
    "    print(df_[\"pehe\"].mean(), df_[\"pehe\"][df_[\"b_ratio\"] <= 5.0].mean())\n",
    "\n"
   ]
  },
  {
   "cell_type": "code",
   "execution_count": null,
   "id": "e1047057-0705-40d0-a587-33cc007bc624",
   "metadata": {},
   "outputs": [],
   "source": [
    "for df in df_list:\n",
    "    df_ = df[0]\n",
    "    df_[\"b_ratio\"] = df_[\"bpred\"] / df_[\"bprog\"]\n",
    "    print(df_[\"pehe\"].mean())\n"
   ]
  },
  {
   "cell_type": "markdown",
   "id": "db202d7e-b6d2-4758-8a39-0f4fa7bb92c5",
   "metadata": {},
   "source": [
    "\"MSE\" for predicting factual outcomes"
   ]
  },
  {
   "cell_type": "code",
   "execution_count": null,
   "id": "96f13049-613a-4781-81e3-66f067228aa9",
   "metadata": {},
   "outputs": [],
   "source": [
    "for df in df_list:\n",
    "    df_ = df[0]\n",
    "    df_[\"b_ratio\"] = df_[\"bpred\"] / df_[\"bprog\"]\n",
    "    print(df_[\"mse\"].mean())\n"
   ]
  },
  {
   "cell_type": "code",
   "execution_count": null,
   "id": "1173cef5-e5b8-4151-99d9-01287dd78284",
   "metadata": {},
   "outputs": [],
   "source": [
    "for df in df_list:\n",
    "    df_ = df[1]\n",
    "    df_[\"b_ratio\"] = df_[\"bpred\"] / df_[\"bprog\"]\n",
    "    print(df_[\"mse\"].mean())\n"
   ]
  },
  {
   "cell_type": "code",
   "execution_count": null,
   "id": "29a07120-04e0-4b52-863a-4adab9adcee7",
   "metadata": {},
   "outputs": [],
   "source": [
    "# get ratio of means and medians between two models\n",
    "data_names = [\"CMNIST\",\"CMNIST\",\"CUB2011\",\"CUB2011\",\"ISIC2018\",\"ISIC2018\",\"LungCT\",\"LungCT\"]\n",
    "# create pandas dataframe to store the results\n",
    "df_ratios = pd.DataFrame(columns=[\"data\",\"model\",\"pehe_mean\",\"mse_mean\"])\n",
    "\n",
    "for i, df in enumerate(df_list):\n",
    "    df_ = df[0]\n",
    "    df_[\"b_ratio\"]=df_[\"bpred\"]/df_[\"bprog\"]\n",
    "    model_ab = \"a\" if i%2==0 else \"b\"\n",
    "    df_ratios = pd.concat([df_ratios, pd.DataFrame({\"data\": [data_names[i]], \"model\": [model_ab], \"pehe_mean\": [df_[\"pehe\"].mean()], \"mse_mean\": np.sqrt(df_[\"mse_accuracy\"].mean())}, index=[0])])\n",
    "\n",
    "# save to csv\n",
    "df_ratios.to_csv(\"./imgs/pehe_mse_means.csv\", index=False)\n",
    "\n",
    "pd.set_option('display.float_format', '{:.3f}'.format)\n",
    "display(df_ratios)\n",
    "pd.set_option('display.float_format', '{:.4f}'.format)\n",
    "display(df_ratios)\n",
    "\n"
   ]
  }
 ],
 "metadata": {
  "kernelspec": {
   "display_name": "Python 3 (ipykernel)",
   "language": "python",
   "name": "python3"
  },
  "language_info": {
   "codemirror_mode": {
    "name": "ipython",
    "version": 3
   },
   "file_extension": ".py",
   "mimetype": "text/x-python",
   "name": "python",
   "nbconvert_exporter": "python",
   "pygments_lexer": "ipython3",
   "version": "3.8.13"
  },
  "vscode": {
   "interpreter": {
    "hash": "dbfe614875a5221741aca80e25946adbbde9251072b12b829548e6ee508528f6"
   }
  }
 },
 "nbformat": 4,
 "nbformat_minor": 5
}
